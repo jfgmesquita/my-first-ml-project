{
 "cells": [
  {
   "cell_type": "code",
   "execution_count": 4,
   "id": "c82808c7-bc26-4426-a7ce-e6d663b63ae7",
   "metadata": {},
   "outputs": [
    {
     "name": "stdout",
     "output_type": "stream",
     "text": [
      "Accuracy: 100.00%\n",
      "Predictions for new examples: ['HipHop' 'Dance']\n"
     ]
    }
   ],
   "source": [
    "import pandas as pd\n",
    "from sklearn.tree import DecisionTreeClassifier\n",
    "from sklearn.model_selection import train_test_split\n",
    "from sklearn.metrics import accuracy_score\n",
    "from sklearn import tree\n",
    "import joblib\n",
    "\n",
    "# Load data\n",
    "music_data = pd.read_csv('../data/music.csv')\n",
    "X = music_data.drop(columns=['genre'])\n",
    "y = music_data['genre']\n",
    "\n",
    "# Split train/test and train model\n",
    "X_train, X_test, y_train, y_test = train_test_split(X, y, test_size=0.2, random_state=42)\n",
    "model = DecisionTreeClassifier()\n",
    "model.fit(X_train, y_train)\n",
    "\n",
    "# Evaluate model\n",
    "predictions = model.predict(X_test)\n",
    "score = accuracy_score(y_test, predictions)\n",
    "print(f'Accuracy: {score * 100:.2f}%')\n",
    "\n",
    "# Save model\n",
    "joblib.dump(model, '../models/music-recommender.joblib')\n",
    "\n",
    "# Load model and predict new examples\n",
    "loaded_model = joblib.load('../models/music-recommender.joblib')\n",
    "new_data = pd.DataFrame([[21, 1], [22, 0]], columns=['age', 'gender'])\n",
    "new_predictions = loaded_model.predict(new_data)\n",
    "print(f'Predictions for new examples: {new_predictions}')\n",
    "\n",
    "# Export tree for visualization\n",
    "tree.export_graphviz(\n",
    "    model,\n",
    "    out_file='../outputs/music-recommender.dot',\n",
    "    feature_names=['age', 'gender'],\n",
    "    class_names=sorted(y.unique()),\n",
    "    label='all',\n",
    "    rounded=True,\n",
    "    filled=True\n",
    ")"
   ]
  }
 ],
 "metadata": {
  "kernelspec": {
   "display_name": "Python 3 (ipykernel)",
   "language": "python",
   "name": "python3"
  },
  "language_info": {
   "codemirror_mode": {
    "name": "ipython",
    "version": 3
   },
   "file_extension": ".py",
   "mimetype": "text/x-python",
   "name": "python",
   "nbconvert_exporter": "python",
   "pygments_lexer": "ipython3",
   "version": "3.12.11"
  }
 },
 "nbformat": 4,
 "nbformat_minor": 5
}
